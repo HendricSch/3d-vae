{
 "cells": [
  {
   "cell_type": "code",
   "execution_count": 52,
   "metadata": {},
   "outputs": [],
   "source": [
    "import torch\n",
    "import torch.nn as nn\n",
    "import numpy as np\n",
    "\n",
    "from models.blocks.distributions import DiagonalGaussianDistribution"
   ]
  },
  {
   "cell_type": "code",
   "execution_count": 141,
   "metadata": {},
   "outputs": [
    {
     "name": "stdout",
     "output_type": "stream",
     "text": [
      "torch.Size([4, 4, 64, 64])\n",
      "tensor(0.4125)\n",
      "tensor(0.0080)\n",
      "tensor(0.4205)\n"
     ]
    }
   ],
   "source": [
    "inputs = torch.ones(4, 3, 256, 256)\n",
    "reconstructions = inputs + 0.01 * torch.randn(4, 3, 256, 256)\n",
    "\n",
    "moments_mean = torch.zeros(4, 2, 64, 64) + 10\n",
    "moments_logvar = torch.zeros(4, 2, 64, 64) + 1\n",
    "moments = torch.cat([moments_mean, moments_logvar], dim=1)\n",
    "\n",
    "print(moments.shape)\n",
    "\n",
    "posterior = DiagonalGaussianDistribution(moments)\n",
    "\n",
    "kl_loss = posterior.kl().mean()\n",
    "kl_weight = 1e-6\n",
    "kl_loss = kl_weight * kl_loss\n",
    "\n",
    "print(kl_loss)\n",
    "\n",
    "print(torch.functional.F.l1_loss(inputs, reconstructions))\n",
    "\n",
    "print(kl_loss + torch.functional.F.l1_loss(inputs, reconstructions))"
   ]
  }
 ],
 "metadata": {
  "kernelspec": {
   "display_name": "venv",
   "language": "python",
   "name": "python3"
  },
  "language_info": {
   "codemirror_mode": {
    "name": "ipython",
    "version": 3
   },
   "file_extension": ".py",
   "mimetype": "text/x-python",
   "name": "python",
   "nbconvert_exporter": "python",
   "pygments_lexer": "ipython3",
   "version": "3.12.2"
  }
 },
 "nbformat": 4,
 "nbformat_minor": 2
}
