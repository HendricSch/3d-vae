{
 "cells": [
  {
   "cell_type": "code",
   "execution_count": 1,
   "id": "9a9125c7",
   "metadata": {},
   "outputs": [
    {
     "name": "stderr",
     "output_type": "stream",
     "text": [
      "c:\\Users\\hendr\\Desktop\\3d-vae\\venv\\Lib\\site-packages\\tqdm\\auto.py:21: TqdmWarning: IProgress not found. Please update jupyter and ipywidgets. See https://ipywidgets.readthedocs.io/en/stable/user_install.html\n",
      "  from .autonotebook import tqdm as notebook_tqdm\n"
     ]
    }
   ],
   "source": [
    "import pandas as pd\n",
    "import numpy as np\n",
    "from multiprocessing import Pool as ThreadPool\n",
    "from tqdm import tqdm\n",
    "import dask.config\n",
    "import xarray as xr\n",
    "import xbatcher as xb\n",
    "import numpy as np\n",
    "import dask\n",
    "import torch\n",
    "import random\n",
    "import os\n",
    "\n",
    "from data.era5 import gen_bgen\n",
    "from metrics.metrics import WeightedRMSE\n",
    "from models.latent_umbrella_net import LatentUmbrellaNet\n",
    "from models.autoencoder import Autoencoder\n",
    "\n",
    "NUM_WORKERS = 6"
   ]
  },
  {
   "cell_type": "code",
   "execution_count": null,
   "id": "936dbe36",
   "metadata": {},
   "outputs": [],
   "source": [
    "bgen = gen_bgen(train=True)\n",
    "\n",
    "batch = bgen[0]\n",
    "\n",
    "stacked = batch.to_stacked_array(\n",
    "    new_dim=\"channel\", sample_dims=[\"latitude\", \"longitude\"]\n",
    ").transpose(\"channel\", \"longitude\", \"latitude\")\n",
    "\n",
    "item = torch.tensor(stacked.data)\n",
    "item = item.unsqueeze(0)\n",
    "item = item[:, :, :, :-1]"
   ]
  }
 ],
 "metadata": {
  "kernelspec": {
   "display_name": "venv",
   "language": "python",
   "name": "python3"
  },
  "language_info": {
   "codemirror_mode": {
    "name": "ipython",
    "version": 3
   },
   "file_extension": ".py",
   "mimetype": "text/x-python",
   "name": "python",
   "nbconvert_exporter": "python",
   "pygments_lexer": "ipython3",
   "version": "3.12.4"
  }
 },
 "nbformat": 4,
 "nbformat_minor": 5
}
